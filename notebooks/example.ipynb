{
 "cells": [
  {
   "cell_type": "code",
   "execution_count": 1,
   "metadata": {},
   "outputs": [],
   "source": [
    "import sys\n",
    "\n",
    "sys.path.append(\"../\")"
   ]
  },
  {
   "cell_type": "code",
   "execution_count": 31,
   "metadata": {},
   "outputs": [],
   "source": [
    "from datasets.treebank_pos import TreebankPOS\n",
    "from models.hmm import HMM\n",
    "from trainer import POSAnalysisTrainer\n",
    "from preprocess import normalize_number\n",
    "from utils import Compose"
   ]
  },
  {
   "cell_type": "code",
   "execution_count": 30,
   "metadata": {},
   "outputs": [
    {
     "data": {
      "text/plain": [
       "<module 'preprocess' from '/Users/shinnosuke/univ/23A/42_intelligent_system/09_submit/optional/notebooks/../preprocess.py'>"
      ]
     },
     "execution_count": 30,
     "metadata": {},
     "output_type": "execute_result"
    }
   ],
   "source": [
    "from importlib import reload\n",
    "import datasets.treebank_pos\n",
    "import models.hmm\n",
    "import trainer\n",
    "import utils\n",
    "import preprocess\n",
    "\n",
    "reload(datasets.treebank_pos)\n",
    "reload(models.hmm)\n",
    "reload(trainer)\n",
    "reload(utils)\n",
    "reload(preprocess)"
   ]
  },
  {
   "cell_type": "code",
   "execution_count": 32,
   "metadata": {},
   "outputs": [
    {
     "name": "stdout",
     "output_type": "stream",
     "text": [
      "loading the local data ...\n"
     ]
    },
    {
     "name": "stderr",
     "output_type": "stream",
     "text": [
      "1it [00:00, 702.68it/s]\n"
     ]
    },
    {
     "name": "stdout",
     "output_type": "stream",
     "text": [
      "the corpus was successfully loaded.\n",
      "preprocessing the data...\n"
     ]
    },
    {
     "name": "stderr",
     "output_type": "stream",
     "text": [
      "100%|██████████| 3/3 [00:00<00:00, 46776.62it/s]"
     ]
    },
    {
     "name": "stdout",
     "output_type": "stream",
     "text": [
      "the number of the unique words: 34\n",
      "the number of the unique pos: 16\n",
      "preprocessing finished.\n"
     ]
    },
    {
     "name": "stderr",
     "output_type": "stream",
     "text": [
      "\n"
     ]
    },
    {
     "data": {
      "text/plain": [
       "3"
      ]
     },
     "execution_count": 32,
     "metadata": {},
     "output_type": "execute_result"
    }
   ],
   "source": [
    "# trans = Compose([str.lower, normalize_number])\n",
    "trans = None\n",
    "dataset = TreebankPOS(root=\"../treebank/tagged/\", download=False, trans=trans)\n",
    "len(dataset)"
   ]
  },
  {
   "cell_type": "code",
   "execution_count": 5,
   "metadata": {},
   "outputs": [
    {
     "data": {
      "text/plain": [
       "[[('Five', 'CD'),\n",
       "  ('things', 'NNS'),\n",
       "  ('you', 'PRP'),\n",
       "  ('can', 'MD'),\n",
       "  ('do', 'VB'),\n",
       "  ('for', 'IN'),\n",
       "  ('$', '$'),\n",
       "  ('15,000', 'CD'),\n",
       "  ('or', 'CC'),\n",
       "  ('less', 'JJR'),\n",
       "  (':', ':')],\n",
       " [('1', 'LS'), ('.', '.')],\n",
       " [('Buy', 'VB'), ('a', 'DT'), ('new', 'JJ'), ('Chevrolet', 'NNP'), ('.', '.')]]"
      ]
     },
     "execution_count": 5,
     "metadata": {},
     "output_type": "execute_result"
    }
   ],
   "source": [
    "dataset.data[0:3]"
   ]
  },
  {
   "cell_type": "code",
   "execution_count": 113,
   "metadata": {},
   "outputs": [
    {
     "name": "stdout",
     "output_type": "stream",
     "text": [
      "words: [array([ 6420, 10265,  8092,  2286,  5677,  6974,  2725,  6767,  7262,\n",
      "        1307,  7864]), array([9050, 3325]), array([ 4773, 11209,  9292, 11639,  3325])]\n",
      "pos: [array([32, 14, 13, 17, 43, 11, 16, 32, 21,  9,  1]), array([29,  7]), array([43, 23, 34,  4,  7])]\n"
     ]
    }
   ],
   "source": [
    "words, pos = dataset[0:3]\n",
    "print(f\"words: {words}\")\n",
    "print(f\"pos: {pos}\")"
   ]
  },
  {
   "cell_type": "code",
   "execution_count": 33,
   "metadata": {},
   "outputs": [],
   "source": [
    "model = HMM(n_pos=dataset.n_pos, n_words=dataset.n_words)"
   ]
  },
  {
   "cell_type": "code",
   "execution_count": 101,
   "metadata": {},
   "outputs": [
    {
     "name": "stdout",
     "output_type": "stream",
     "text": [
      "the size of the train data: 3983\n",
      "the size of the test data: 996\n"
     ]
    }
   ],
   "source": [
    "trainer = POSAnalysisTrainer(model=model, dataset=dataset, train_ratio=0.8, shuffle=False)"
   ]
  },
  {
   "cell_type": "code",
   "execution_count": 102,
   "metadata": {},
   "outputs": [
    {
     "name": "stdout",
     "output_type": "stream",
     "text": [
      "training...\n",
      "training finished.\n"
     ]
    }
   ],
   "source": [
    "trainer.train()"
   ]
  },
  {
   "cell_type": "code",
   "execution_count": 103,
   "metadata": {},
   "outputs": [
    {
     "name": "stdout",
     "output_type": "stream",
     "text": [
      "evaluating...\n",
      "evaluation finished.\n",
      "Accuracy: 0.0533\n"
     ]
    }
   ],
   "source": [
    "trainer.test()"
   ]
  }
 ],
 "metadata": {
  "kernelspec": {
   "display_name": "private_ml",
   "language": "python",
   "name": "python3"
  },
  "language_info": {
   "codemirror_mode": {
    "name": "ipython",
    "version": 3
   },
   "file_extension": ".py",
   "mimetype": "text/x-python",
   "name": "python",
   "nbconvert_exporter": "python",
   "pygments_lexer": "ipython3",
   "version": "3.11.5"
  }
 },
 "nbformat": 4,
 "nbformat_minor": 2
}
