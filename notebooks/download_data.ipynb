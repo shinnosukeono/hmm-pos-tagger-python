{
 "cells": [
  {
   "cell_type": "code",
   "execution_count": 4,
   "metadata": {},
   "outputs": [],
   "source": [
    "import nltk"
   ]
  },
  {
   "cell_type": "code",
   "execution_count": 5,
   "metadata": {},
   "outputs": [
    {
     "name": "stderr",
     "output_type": "stream",
     "text": [
      "[nltk_data] Downloading package treebank to\n",
      "[nltk_data]     /Users/shinnosuke/nltk_data...\n",
      "[nltk_data]   Unzipping corpora/treebank.zip.\n"
     ]
    },
    {
     "data": {
      "text/plain": [
       "True"
      ]
     },
     "execution_count": 5,
     "metadata": {},
     "output_type": "execute_result"
    }
   ],
   "source": [
    "# download Penn Treebank corpus\n",
    "nltk.download(\"treebank\")"
   ]
  },
  {
   "cell_type": "code",
   "execution_count": 6,
   "metadata": {},
   "outputs": [],
   "source": [
    "from nltk.corpus import treebank"
   ]
  },
  {
   "cell_type": "code",
   "execution_count": 18,
   "metadata": {},
   "outputs": [
    {
     "name": "stdout",
     "output_type": "stream",
     "text": [
      "The number of the files: 199\n",
      "The number of the words: 100676\n",
      "The number of the parts: 46\n",
      "{'SYM', 'MD', 'RP', 'WDT', '#', 'RBR', 'VBP', 'JJR', 'PRP$', 'RB', 'NNPS', '.', ':', 'NNP', 'CD', 'NN', 'WP$', '``', 'CC', '-NONE-', 'IN', 'UH', 'DT', 'PRP', 'PDT', 'FW', 'VBZ', 'VBN', 'WP', 'LS', 'POS', 'JJ', 'VBG', 'VB', ',', 'VBD', 'JJS', '$', '-RRB-', '-LRB-', 'WRB', 'TO', 'NNS', 'RBS', 'EX', \"''\"}\n"
     ]
    }
   ],
   "source": [
    "print(f\"The number of the files: {len(treebank.fileids())}\")\n",
    "print(f\"The number of the words: {len(treebank.words())}\")\n",
    "tags = set(map(lambda x: x[1], treebank.tagged_words()))\n",
    "print(f\"The number of the parts: {len(tags)}\")\n",
    "print(tags)"
   ]
  },
  {
   "cell_type": "code",
   "execution_count": 25,
   "metadata": {},
   "outputs": [
    {
     "data": {
      "text/plain": [
       "[('Trinity', 'NNP'),\n",
       " ('said', 'VBD'),\n",
       " ('0', '-NONE-'),\n",
       " ('it', 'PRP'),\n",
       " ('plans', 'VBZ'),\n",
       " ('*-1', '-NONE-'),\n",
       " ('to', 'TO'),\n",
       " ('begin', 'VB'),\n",
       " ('delivery', 'NN'),\n",
       " ('in', 'IN'),\n",
       " ('the', 'DT'),\n",
       " ('first', 'JJ'),\n",
       " ('quarter', 'NN'),\n",
       " ('of', 'IN'),\n",
       " ('next', 'JJ'),\n",
       " ('year', 'NN'),\n",
       " ('.', '.')]"
      ]
     },
     "execution_count": 25,
     "metadata": {},
     "output_type": "execute_result"
    }
   ],
   "source": [
    "treebank.tagged_sents()[-1]"
   ]
  },
  {
   "cell_type": "code",
   "execution_count": 28,
   "metadata": {},
   "outputs": [
    {
     "data": {
      "text/plain": [
       "[[('Pierre', 'NNP'),\n",
       "  ('Vinken', 'NNP'),\n",
       "  (',', ','),\n",
       "  ('61', 'CD'),\n",
       "  ('years', 'NNS'),\n",
       "  ('old', 'JJ'),\n",
       "  (',', ','),\n",
       "  ('will', 'MD'),\n",
       "  ('join', 'VB'),\n",
       "  ('the', 'DT'),\n",
       "  ('board', 'NN'),\n",
       "  ('as', 'IN'),\n",
       "  ('a', 'DT'),\n",
       "  ('nonexecutive', 'JJ'),\n",
       "  ('director', 'NN'),\n",
       "  ('Nov.', 'NNP'),\n",
       "  ('29', 'CD'),\n",
       "  ('.', '.'),\n",
       "  ('Mr.', 'NNP'),\n",
       "  ('Vinken', 'NNP'),\n",
       "  ('is', 'VBZ'),\n",
       "  ('chairman', 'NN'),\n",
       "  ('of', 'IN'),\n",
       "  ('Elsevier', 'NNP'),\n",
       "  ('N.V.', 'NNP'),\n",
       "  (',', ','),\n",
       "  ('the', 'DT'),\n",
       "  ('Dutch', 'NNP'),\n",
       "  ('publishing', 'VBG'),\n",
       "  ('group', 'NN'),\n",
       "  ('.', '.')]]"
      ]
     },
     "execution_count": 28,
     "metadata": {},
     "output_type": "execute_result"
    }
   ],
   "source": [
    "def parse_pos_file(file_path):\n",
    "    with open(file_path, \"r\", encoding=\"utf-8\") as file:\n",
    "        lines = file.readlines()\n",
    "\n",
    "    sentences = []\n",
    "    current_sentence = []\n",
    "\n",
    "    for line in lines:\n",
    "        # detect the beginning of a line\n",
    "        if line.strip() == \"======================================\":\n",
    "            if current_sentence:\n",
    "                sentences.append(current_sentence)\n",
    "                current_sentence = []\n",
    "        else:\n",
    "            # ignore \"[]\"\n",
    "            line = line.replace(\"[\", \"\").replace(\"]\", \"\")\n",
    "            words = line.split()\n",
    "\n",
    "            for word in words:\n",
    "                if \"/\" in word:\n",
    "                    # split by the last \"/\"\n",
    "                    split_index = word.rfind(\"/\")\n",
    "                    word_text = word[:split_index]\n",
    "                    word_tag = word[split_index + 1 :]\n",
    "                    current_sentence.append((word_text, word_tag))\n",
    "\n",
    "    # add the last line\n",
    "    if current_sentence:\n",
    "        sentences.append(current_sentence)\n",
    "\n",
    "    return sentences\n",
    "\n",
    "\n",
    "file_path = \"../treebank/tagged/wsj_0001.pos\"\n",
    "sentences = parse_pos_file(file_path)\n",
    "sentences"
   ]
  },
  {
   "cell_type": "code",
   "execution_count": 6,
   "metadata": {},
   "outputs": [
    {
     "data": {
      "text/plain": [
       "{'$': 0,\n",
       " 'things': 1,\n",
       " 'do': 2,\n",
       " '15,000': 3,\n",
       " 'five': 4,\n",
       " 'for': 5,\n",
       " 'less': 6,\n",
       " 'or': 7,\n",
       " ':': 8,\n",
       " 'can': 9,\n",
       " 'you': 10}"
      ]
     },
     "execution_count": 6,
     "metadata": {},
     "output_type": "execute_result"
    }
   ],
   "source": [
    "sentence = [\n",
    "    (\"five\", \"CD\"),\n",
    "    (\"things\", \"NNS\"),\n",
    "    (\"you\", \"PRP\"),\n",
    "    (\"can\", \"MD\"),\n",
    "    (\"do\", \"VB\"),\n",
    "    (\"for\", \"IN\"),\n",
    "    (\"$\", \"$\"),\n",
    "    (\"15,000\", \"CD\"),\n",
    "    (\"or\", \"CC\"),\n",
    "    (\"less\", \"JJR\"),\n",
    "    (\":\", \":\"),\n",
    "]\n",
    "words, pos = zip(*sentence)\n",
    "words\n",
    "words_set = set()\n",
    "words_set.update(words)\n",
    "word_to_onehot = {word: i for i, word in enumerate(words_set)}\n",
    "word_to_onehot"
   ]
  }
 ],
 "metadata": {
  "kernelspec": {
   "display_name": "private_ml",
   "language": "python",
   "name": "python3"
  },
  "language_info": {
   "codemirror_mode": {
    "name": "ipython",
    "version": 3
   },
   "file_extension": ".py",
   "mimetype": "text/x-python",
   "name": "python",
   "nbconvert_exporter": "python",
   "pygments_lexer": "ipython3",
   "version": "3.11.5"
  }
 },
 "nbformat": 4,
 "nbformat_minor": 2
}
